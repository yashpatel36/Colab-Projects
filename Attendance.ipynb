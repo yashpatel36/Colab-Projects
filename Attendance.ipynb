{
  "nbformat": 4,
  "nbformat_minor": 0,
  "metadata": {
    "colab": {
      "name": "Attendance.ipynb",
      "provenance": [],
      "collapsed_sections": [],
      "authorship_tag": "ABX9TyPVr+D/d0oGNN/EZK+kttC/",
      "include_colab_link": true
    },
    "kernelspec": {
      "name": "python3",
      "display_name": "Python 3"
    }
  },
  "cells": [
    {
      "cell_type": "markdown",
      "metadata": {
        "id": "view-in-github",
        "colab_type": "text"
      },
      "source": [
        "<a href=\"https://colab.research.google.com/github/yashpatel36/Colab-Projects/blob/master/Attendance.ipynb\" target=\"_parent\"><img src=\"https://colab.research.google.com/assets/colab-badge.svg\" alt=\"Open In Colab\"/></a>"
      ]
    },
    {
      "cell_type": "markdown",
      "metadata": {
        "id": "hOziBuEYOG0y",
        "colab_type": "text"
      },
      "source": [
        "# Compiled Attendance Sheet from individual MS Teams attendance files."
      ]
    },
    {
      "cell_type": "markdown",
      "metadata": {
        "id": "U5DWjm_OUUJj",
        "colab_type": "text"
      },
      "source": [
        "##See the  Tutorial in the link below, before proceeding\n",
        "\n",
        "https://drive.google.com/file/d/1IM57Uo2prijueN7hLaBjDJ993hoGJ5Z3/view?usp=sharing"
      ]
    },
    {
      "cell_type": "code",
      "metadata": {
        "id": "WPDBMGg-C5OM",
        "colab_type": "code",
        "colab": {
          "base_uri": "https://localhost:8080/",
          "height": 34
        },
        "cellView": "form",
        "outputId": "7dcfe39d-826e-4e41-f25a-d7b3521c349f"
      },
      "source": [
        "#@title Run this code,a link will appear->click the link-> and after you get the message of \"mounted at Content/drive\" run the next code cell\n",
        "from google.colab import drive\n",
        "drive.mount('/content/drive')"
      ],
      "execution_count": 4,
      "outputs": [
        {
          "output_type": "stream",
          "text": [
            "Mounted at /content/drive\n"
          ],
          "name": "stdout"
        }
      ]
    },
    {
      "cell_type": "code",
      "metadata": {
        "id": "11IqvlKMS4GR",
        "colab_type": "code",
        "cellView": "form",
        "colab": {
          "base_uri": "https://localhost:8080/",
          "height": 204
        },
        "outputId": "debbf887-12c1-4012-fa36-901008afeb75"
      },
      "source": [
        "#@title  Now Press the Run button to run this second cell.\n",
        "import csv\n",
        "import xlrd \n",
        "import xlwt \n",
        "import os\n",
        "from dateutil import parser\n",
        "from datetime import datetime\n",
        "c=0\n",
        "#print(1)\n",
        "pathIn = '/content/drive/My Drive/Attendance/Input/' \n",
        "pathOut = '/content/drive/My Drive/Attendance/Output/'\n",
        "#loc = pathIn\n",
        "from os import listdir\n",
        "from os.path import isfile, join\n",
        "onlyfiles = [f for f in listdir(pathIn) if isfile(join(pathIn, f))]\n",
        "#print(onlyfiles)\n",
        "listcols = []\n",
        "listrows = []\n",
        "Student_name = dict()\n",
        "wb = xlrd.open_workbook('/content/drive/My Drive/Attendance/names.xlsx') \n",
        "sheet1 = wb.sheet_by_index(0) \n",
        "# For row 0 and column 0 \n",
        "sheet1.cell_value(0, 0)\n",
        "l=[]\n",
        "final_list=[]\n",
        "for j in range(1,sheet1.nrows):\n",
        "\tsheet1.cell_value(j, 0)\n",
        "\tif(sheet1.cell_value(j, 0)not in Student_name.keys()):\n",
        "\t\tStudent_name[sheet1.cell_value(j, 0).upper()]=''\n",
        "\t\tl.append(sheet1.cell_value(j, 0).upper())\n",
        "#print(Student_name)\n",
        "#print(len(Student_name))\n",
        "p=dict()\n",
        "p=Student_name.copy()\n",
        "#print(p)\n",
        "entry=dict()\n",
        "entry['Date']=''\n",
        "#print(p.keys())\n",
        "for i in range(len(onlyfiles)):\n",
        "\tc=0\n",
        "\tloc = pathIn + onlyfiles[i]\n",
        "\tstripped = onlyfiles[i].replace('.csv','')\n",
        "\tprint(stripped)\n",
        "\tprint(loc)\t\n",
        "\tfi = open(loc, 'rb')\n",
        "\tdata = fi.read()\n",
        "\tfi.close()\n",
        "\tfo = open(pathIn+stripped+'_1.csv', 'wb')\n",
        "\tfo.write(data.replace(b'\\x00', b''))\n",
        "\tfo.close()\n",
        "\twith open(pathIn+stripped+'_1.csv', \"r\",encoding='ISO-8859-1') as csv_file:\n",
        "\t\tcsv_reader = csv.reader(csv_file, delimiter='\\t')\n",
        "\t\tfor lines in csv_reader:\n",
        "\t\t\tif(c!=0):\n",
        "\t\t\t\tif(c==1):\n",
        "\t\t\t\t\ta = lines[2].split(',')\n",
        "\t\t\t\t\tb = a[0]\n",
        "\t\t\t\t\tdatetime_obj = parser.parse(b)\n",
        "\t\t\t\t\tb=datetime.strftime(datetime_obj,'%m/%d/%y')\n",
        "\t\t\t\t\tentry['Date']=b\n",
        "\t\t\t\t\t#print(entry['Date'])\n",
        "\t\t\t\ta=lines[0].upper()\n",
        "\t\t\t\t#print(lines)\n",
        "\t\t\t\tif(a in p.keys()):\n",
        "\t\t\t\t\tif(len(p[a])==0):\n",
        "\t\t\t\t\t\tp[a]='P'\n",
        "\t\t\tc=c+1\n",
        "\tfor i in p.keys():\n",
        "\t\tif(len(p[i])==0):\n",
        "\t\t\tp[i]='A'\n",
        "\tp1=p.copy()\n",
        "\tentry['Attendance']=p1\n",
        "\t#print(entry)\n",
        "\tentry1=entry.copy()\n",
        "\tfinal_list.append(entry1)\n",
        "\tos.remove(pathIn+stripped+'_1.csv')\n",
        "\tp=Student_name.copy()\n",
        "#print(final_list)\n",
        "final_list.sort(key = lambda x:x['Date'])\n",
        "#print(final_list)\n",
        "\n",
        "workbook = xlwt.Workbook()  \n",
        "sheet = workbook.add_sheet(\"Sheet1\") \n",
        "# Specifying style \n",
        "style = xlwt.easyxf('font: bold 1') \n",
        "listrows=[]\n",
        "listrows.append('Student Name')\n",
        "listrows=listrows+list(Student_name.keys()) \n",
        "# Specifying column\n",
        "\n",
        "for j in range(len(listrows)):\n",
        "\tsheet.write(j, 0, listrows[j], style) \n",
        "\n",
        "for j in range(len(final_list)):\n",
        "\tsheet.write(0,j+1,final_list[j]['Date'])\n",
        "\ta=list(final_list[j]['Attendance'].values())\n",
        "\tfor i in range(len(a)):\n",
        "\t\tsheet.write(i+1,j+1,a[i])\n",
        "workbook.save(pathOut + \"FinalOutput.xls\") \n",
        "print('check your output folder')"
      ],
      "execution_count": 2,
      "outputs": [
        {
          "output_type": "stream",
          "text": [
            "2020 August 5 meetingAttendanceList (8)\n",
            "/content/drive/My Drive/Attendance/Input/2020 August 5 meetingAttendanceList (8).csv\n",
            "August 11 meetingAttendanceList (8)\n",
            "/content/drive/My Drive/Attendance/Input/August 11 meetingAttendanceList (8).csv\n",
            "July 28 2020 meetingAttendanceList (6)\n",
            "/content/drive/My Drive/Attendance/Input/July 28 2020 meetingAttendanceList (6).csv\n",
            "July14 meetingAttendanceList\n",
            "/content/drive/My Drive/Attendance/Input/July14 meetingAttendanceList.csv\n",
            "July 21 2020 meetingAttendanceList\n",
            "/content/drive/My Drive/Attendance/Input/July 21 2020 meetingAttendanceList.csv\n",
            "check your output folder\n"
          ],
          "name": "stdout"
        }
      ]
    }
  ]
}